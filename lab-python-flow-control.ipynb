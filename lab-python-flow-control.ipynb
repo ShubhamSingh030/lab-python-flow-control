{
 "cells": [
  {
   "cell_type": "markdown",
   "id": "d3bfc191-8885-42ee-b0a0-bbab867c6f9f",
   "metadata": {
    "tags": []
   },
   "source": [
    "# Lab | Flow Control"
   ]
  },
  {
   "cell_type": "code",
   "execution_count": 8,
   "id": "20caa281",
   "metadata": {},
   "outputs": [
    {
     "ename": "NameError",
     "evalue": "name 'true' is not defined",
     "output_type": "error",
     "traceback": [
      "\u001b[1;31m---------------------------------------------------------------------------\u001b[0m",
      "\u001b[1;31mNameError\u001b[0m                                 Traceback (most recent call last)",
      "Cell \u001b[1;32mIn[8], line 9\u001b[0m\n\u001b[0;32m      7\u001b[0m \u001b[38;5;66;03m#loop through each product and ask the user for the quantity\u001b[39;00m\n\u001b[0;32m      8\u001b[0m \u001b[38;5;28;01mfor\u001b[39;00m product \u001b[38;5;129;01min\u001b[39;00m products:\n\u001b[1;32m----> 9\u001b[0m         \u001b[38;5;28;01mwhile\u001b[39;00m true:\n\u001b[0;32m     10\u001b[0m             \u001b[38;5;28;01mtry\u001b[39;00m:\n\u001b[0;32m     11\u001b[0m \n\u001b[0;32m     12\u001b[0m             \u001b[38;5;66;03m# Promt the user to enter the quantity for the current product\u001b[39;00m\n\u001b[0;32m     13\u001b[0m                   quantity \u001b[38;5;241m=\u001b[39m \u001b[38;5;28mint\u001b[39m(\u001b[38;5;28minput\u001b[39m(\u001b[38;5;124mf\u001b[39m\u001b[38;5;124m\"\u001b[39m\u001b[38;5;124mEnter the quantity for \u001b[39m\u001b[38;5;132;01m{\u001b[39;00mproduct\u001b[38;5;132;01m}\u001b[39;00m\u001b[38;5;124m: \u001b[39m\u001b[38;5;124m\"\u001b[39m))\n",
      "\u001b[1;31mNameError\u001b[0m: name 'true' is not defined"
     ]
    }
   ],
   "source": [
    "#List of Products\n",
    "products = [\"t-shirt\", \"mug\", \"hat\", \"book\", \"keychain\"]\n",
    "\n",
    "# Initialise an empty dictionary to store the inventory\n",
    "inventory = {}\n",
    "\n",
    "#loop through each product and ask the user for the quantity\n",
    "for product in products:\n",
    "        while true:\n",
    "            try:\n",
    "\n",
    "            # Promt the user to enter the quantity for the current product\n",
    "                  quantity = int(input(f\"Enter the quantity for {product}: \"))\n",
    "\n",
    "            # Add the product and its quantity to the inventory dictionary\n",
    "                  inventory[product] = quantity\n",
    "                  break\n",
    "            except ValueError:\n",
    "                  print(\"Invalid input. Please enter an integer value.\")\n",
    "\n",
    "#print the inventory dictionary\n",
    "print(\"Inventory:\", inventory)\n",
    "\n",
    "# Initialise an empty set for customer orders\n",
    "customer_orders = set()\n",
    "\n",
    "# Prompt the user to enter the name of a product that a customer wants to order.\n",
    "def add_product_to_order():\n",
    "      while True:\n",
    "\n",
    "            # Prompt the user to enter the name of a product\n",
    "            product = input(\"Enter the name of the product you want to order: \").strip().lower()\n",
    "\n",
    "            # Add the product name to the customers_order set if it is valid\n",
    "            if product in products:\n",
    "                  customer_orders.add(product)\n",
    "                  print(f\"{product} added to your order.\")\n",
    "            else:\n",
    "                  print(\"Invalid product name. Please choose from the list.\")\n",
    "\n",
    "            # Ask if the user wants to add another product\n",
    "            another = input(\"Do you want to add another product? (yes/no): \").strip().lower()\n",
    "            if another != 'yes':\n",
    "                  break\n",
    "\n",
    "add_product_to_order()\n",
    "\n",
    "# Print the products in the customer_orders set\n",
    "print(\"The product in your order are:\", customer_orders)\n",
    "\n",
    "# Calculate order statistics\n",
    "total_products_ordered = len(customer_orders)\n",
    "percentage_ordered = (total_products_ordered/len(products))*100\n",
    "order_status = (total_products_ordered, percentage_ordered)\n",
    "\n",
    "# Print the order statistics\n",
    "print(\"\\nOrder Statistics:\")\n",
    "print(f\"Total Products Ordered: {order_status[0]}\")\n",
    "print(f\"Percentage of Products Ordered: {order_status[1]:.2f}%\")\n",
    "\n",
    "# Step 9: Update the inventory by subtracting 1 from the quantity of each ordered product\n",
    "for product in customer_orders:\n",
    "    if product in inventory:\n",
    "        inventory[product] -= 1\n",
    "\n",
    "# Step 10: Print the updated inventory\n",
    "print(\"\\nUpdated Inventory:\")\n",
    "for product, quantity in inventory.items():\n",
    "    print(f\"{product}: {quantity}\")       \n"
   ]
  },
  {
   "cell_type": "markdown",
   "id": "3851fcd1-cf98-4653-9c89-e003b7ec9400",
   "metadata": {},
   "source": [
    "## Exercise: Managing Customer Orders Optimized\n",
    "\n",
    "In the last lab, you were starting an online store that sells various products. To ensure smooth operations, you developed a program that manages customer orders and inventory.\n",
    "\n",
    "You did so without using flow control. Let's go a step further and improve this code.\n",
    "\n",
    "Follow the steps below to complete the exercise:\n",
    "\n",
    "1. Look at your code from the lab data structures, and improve repeated code with loops.\n",
    "\n",
    "2. Instead of asking the user to input the name of three products that a customer wants to order, do the following:\n",
    "    \n",
    "    a. Prompt the user to enter the name of a product that a customer wants to order.\n",
    "    \n",
    "    b. Add the product name to the \"customer_orders\" set.\n",
    "    \n",
    "    c. Ask the user if they want to add another product (yes/no).\n",
    "    \n",
    "    d. Continue the loop until the user does not want to add another product.\n",
    "\n",
    "3. Instead of updating the inventory by subtracting 1 from the quantity of each product, only do it for  the products that were ordered (those in \"customer_orders\")."
   ]
  }
 ],
 "metadata": {
  "kernelspec": {
   "display_name": "Python 3 (ipykernel)",
   "language": "python",
   "name": "python3"
  },
  "language_info": {
   "codemirror_mode": {
    "name": "ipython",
    "version": 3
   },
   "file_extension": ".py",
   "mimetype": "text/x-python",
   "name": "python",
   "nbconvert_exporter": "python",
   "pygments_lexer": "ipython3",
   "version": "3.11.5"
  }
 },
 "nbformat": 4,
 "nbformat_minor": 5
}
